{
 "cells": [
  {
   "cell_type": "code",
   "execution_count": 28,
   "id": "426a99f5",
   "metadata": {},
   "outputs": [],
   "source": [
    "from keras.preprocessing.image import ImageDataGenerator\n",
    "import tensorflow as tf\n",
    "from keras.layers import Conv2D, MaxPooling2D, Flatten, Dense\n",
    "from keras.callbacks import ReduceLROnPlateau, EarlyStopping, ModelCheckpoint\n",
    "from keras.models import Sequential, load_model\n",
    "import matplotlib.pyplot as plt"
   ]
  },
  {
   "cell_type": "code",
   "execution_count": 21,
   "id": "57e2f039",
   "metadata": {},
   "outputs": [
    {
     "name": "stdout",
     "output_type": "stream",
     "text": [
      "Found 680 images belonging to 2 classes.\n"
     ]
    }
   ],
   "source": [
    "train_datagen = ImageDataGenerator(rescale=1/255.,\n",
    "                                  horizontal_flip=True,\n",
    "                                  shear_range=0.2,\n",
    "                                  height_shift_range=0.2,\n",
    "                                  width_shift_range=0.2)\n",
    "\n",
    "train = train_datagen.flow_from_directory('train/',\n",
    "                                         batch_size=32,\n",
    "                                         target_size=(128,128),\n",
    "                                         class_mode='binary',\n",
    "                                         shuffle=True,\n",
    "                                         interpolation='nearest')"
   ]
  },
  {
   "cell_type": "code",
   "execution_count": 22,
   "id": "bda9fac9",
   "metadata": {},
   "outputs": [
    {
     "name": "stdout",
     "output_type": "stream",
     "text": [
      "Found 120 images belonging to 2 classes.\n"
     ]
    }
   ],
   "source": [
    "test_datagen = ImageDataGenerator(rescale=1/255.)\n",
    "\n",
    "test = test_datagen.flow_from_directory('test/',\n",
    "                                        batch_size=32,\n",
    "                                        target_size=(128,128),\n",
    "                                        class_mode='binary',\n",
    "                                        shuffle=True,\n",
    "                                        interpolation='nearest')"
   ]
  },
  {
   "cell_type": "code",
   "execution_count": 29,
   "id": "f365ac47",
   "metadata": {},
   "outputs": [
    {
     "name": "stdout",
     "output_type": "stream",
     "text": [
      "Model: \"sequential_9\"\n",
      "_________________________________________________________________\n",
      " Layer (type)                Output Shape              Param #   \n",
      "=================================================================\n",
      " conv2d_40 (Conv2D)          (None, 126, 126, 32)      896       \n",
      "                                                                 \n",
      " max_pooling2d_37 (MaxPoolin  (None, 63, 63, 32)       0         \n",
      " g2D)                                                            \n",
      "                                                                 \n",
      " conv2d_41 (Conv2D)          (None, 61, 61, 64)        18496     \n",
      "                                                                 \n",
      " max_pooling2d_38 (MaxPoolin  (None, 30, 30, 64)       0         \n",
      " g2D)                                                            \n",
      "                                                                 \n",
      " conv2d_42 (Conv2D)          (None, 28, 28, 128)       73856     \n",
      "                                                                 \n",
      " max_pooling2d_39 (MaxPoolin  (None, 14, 14, 128)      0         \n",
      " g2D)                                                            \n",
      "                                                                 \n",
      " flatten_6 (Flatten)         (None, 25088)             0         \n",
      "                                                                 \n",
      " dense_18 (Dense)            (None, 64)                1605696   \n",
      "                                                                 \n",
      " dense_19 (Dense)            (None, 128)               8320      \n",
      "                                                                 \n",
      " dense_20 (Dense)            (None, 1)                 129       \n",
      "                                                                 \n",
      "=================================================================\n",
      "Total params: 1,707,393\n",
      "Trainable params: 1,707,393\n",
      "Non-trainable params: 0\n",
      "_________________________________________________________________\n"
     ]
    }
   ],
   "source": [
    "cnn = Sequential()\n",
    "\n",
    "cnn.add(Conv2D(filters=32,kernel_size=(3,3),activation='relu',input_shape=(128,128,3)))\n",
    "cnn.add(MaxPooling2D(pool_size=(2,2)))\n",
    "\n",
    "cnn.add(Conv2D(filters=64,kernel_size=(3,3),activation='relu'))\n",
    "cnn.add(MaxPooling2D(pool_size=(2,2)))\n",
    "\n",
    "cnn.add(Conv2D(filters=128,kernel_size=(3,3),activation='relu'))\n",
    "cnn.add(MaxPooling2D(pool_size=(2,2)))\n",
    "\n",
    "# cnn.add(Conv2D(filters=256,kernel_size=(3,3),activation='relu'))\n",
    "# cnn.add(MaxPooling2D(pool_size=(2,2)))\n",
    "# cnn.add(BatchNormalization())\n",
    "# cnn.add(Dropout(0.3))\n",
    "\n",
    "cnn.add(Flatten())\n",
    "\n",
    "cnn.add(Dense(units=64,activation='relu'))\n",
    "cnn.add(Dense(units=128,activation='relu'))\n",
    "cnn.add(Dense(units=1,activation='sigmoid'))\n",
    "cnn.compile(loss='binary_crossentropy',optimizer='adam',metrics='accuracy')\n",
    "cnn.summary()"
   ]
  },
  {
   "cell_type": "code",
   "execution_count": 37,
   "id": "d223d94d",
   "metadata": {},
   "outputs": [
    {
     "name": "stdout",
     "output_type": "stream",
     "text": [
      "Epoch 1/100\n",
      "22/22 [==============================] - ETA: 0s - loss: 0.1992 - accuracy: 0.9412\n",
      "Epoch 1: val_accuracy improved from -inf to 0.71667, saving model to checkpoint\\\n"
     ]
    },
    {
     "name": "stderr",
     "output_type": "stream",
     "text": [
      "WARNING:absl:Found untraced functions such as _jit_compiled_convolution_op, _jit_compiled_convolution_op, _jit_compiled_convolution_op while saving (showing 3 of 3). These functions will not be directly callable after loading.\n"
     ]
    },
    {
     "name": "stdout",
     "output_type": "stream",
     "text": [
      "INFO:tensorflow:Assets written to: checkpoint\\assets\n"
     ]
    },
    {
     "name": "stderr",
     "output_type": "stream",
     "text": [
      "INFO:tensorflow:Assets written to: checkpoint\\assets\n"
     ]
    },
    {
     "name": "stdout",
     "output_type": "stream",
     "text": [
      "22/22 [==============================] - 13s 580ms/step - loss: 0.1992 - accuracy: 0.9412 - val_loss: 1.0887 - val_accuracy: 0.7167 - lr: 0.0010\n",
      "Epoch 2/100\n",
      "22/22 [==============================] - ETA: 0s - loss: 0.1821 - accuracy: 0.9279\n",
      "Epoch 2: val_accuracy improved from 0.71667 to 0.75833, saving model to checkpoint\\\n"
     ]
    },
    {
     "name": "stderr",
     "output_type": "stream",
     "text": [
      "WARNING:absl:Found untraced functions such as _jit_compiled_convolution_op, _jit_compiled_convolution_op, _jit_compiled_convolution_op while saving (showing 3 of 3). These functions will not be directly callable after loading.\n"
     ]
    },
    {
     "name": "stdout",
     "output_type": "stream",
     "text": [
      "INFO:tensorflow:Assets written to: checkpoint\\assets\n"
     ]
    },
    {
     "name": "stderr",
     "output_type": "stream",
     "text": [
      "INFO:tensorflow:Assets written to: checkpoint\\assets\n"
     ]
    },
    {
     "name": "stdout",
     "output_type": "stream",
     "text": [
      "22/22 [==============================] - 14s 628ms/step - loss: 0.1821 - accuracy: 0.9279 - val_loss: 1.0866 - val_accuracy: 0.7583 - lr: 0.0010\n",
      "Epoch 3/100\n",
      "22/22 [==============================] - ETA: 0s - loss: 0.1747 - accuracy: 0.9235\n",
      "Epoch 3: val_accuracy did not improve from 0.75833\n",
      "22/22 [==============================] - 12s 549ms/step - loss: 0.1747 - accuracy: 0.9235 - val_loss: 1.1148 - val_accuracy: 0.7167 - lr: 0.0010\n",
      "Epoch 4/100\n",
      "22/22 [==============================] - ETA: 0s - loss: 0.1892 - accuracy: 0.9147\n",
      "Epoch 4: val_accuracy did not improve from 0.75833\n",
      "22/22 [==============================] - 11s 499ms/step - loss: 0.1892 - accuracy: 0.9147 - val_loss: 1.1259 - val_accuracy: 0.7417 - lr: 0.0010\n",
      "Epoch 5/100\n",
      "22/22 [==============================] - ETA: 0s - loss: 0.1576 - accuracy: 0.9397\n",
      "Epoch 5: val_accuracy did not improve from 0.75833\n",
      "22/22 [==============================] - 11s 486ms/step - loss: 0.1576 - accuracy: 0.9397 - val_loss: 1.1656 - val_accuracy: 0.6833 - lr: 0.0010\n",
      "Epoch 6/100\n",
      "22/22 [==============================] - ETA: 0s - loss: 0.1812 - accuracy: 0.9353\n",
      "Epoch 6: val_accuracy did not improve from 0.75833\n",
      "22/22 [==============================] - 11s 496ms/step - loss: 0.1812 - accuracy: 0.9353 - val_loss: 1.1994 - val_accuracy: 0.7000 - lr: 0.0010\n",
      "Epoch 7/100\n",
      "22/22 [==============================] - ETA: 0s - loss: 0.1989 - accuracy: 0.9147\n",
      "Epoch 7: val_accuracy did not improve from 0.75833\n",
      "22/22 [==============================] - 11s 496ms/step - loss: 0.1989 - accuracy: 0.9147 - val_loss: 1.4081 - val_accuracy: 0.6917 - lr: 0.0010\n",
      "Epoch 8/100\n",
      "22/22 [==============================] - ETA: 0s - loss: 0.1677 - accuracy: 0.9250\n",
      "Epoch 8: val_accuracy did not improve from 0.75833\n",
      "22/22 [==============================] - 11s 493ms/step - loss: 0.1677 - accuracy: 0.9250 - val_loss: 1.2381 - val_accuracy: 0.7083 - lr: 0.0010\n",
      "Epoch 9/100\n",
      "22/22 [==============================] - ETA: 0s - loss: 0.1692 - accuracy: 0.9250\n",
      "Epoch 9: val_accuracy did not improve from 0.75833\n",
      "22/22 [==============================] - 11s 495ms/step - loss: 0.1692 - accuracy: 0.9250 - val_loss: 1.2158 - val_accuracy: 0.7250 - lr: 0.0010\n",
      "Epoch 10/100\n",
      "22/22 [==============================] - ETA: 0s - loss: 0.1781 - accuracy: 0.9294\n",
      "Epoch 10: val_accuracy did not improve from 0.75833\n",
      "22/22 [==============================] - 11s 498ms/step - loss: 0.1781 - accuracy: 0.9294 - val_loss: 1.3789 - val_accuracy: 0.6833 - lr: 0.0010\n",
      "Epoch 11/100\n",
      "22/22 [==============================] - ETA: 0s - loss: 0.1761 - accuracy: 0.9191\n",
      "Epoch 11: val_accuracy did not improve from 0.75833\n",
      "22/22 [==============================] - 11s 494ms/step - loss: 0.1761 - accuracy: 0.9191 - val_loss: 1.2315 - val_accuracy: 0.6833 - lr: 0.0010\n",
      "Epoch 12/100\n",
      "22/22 [==============================] - ETA: 0s - loss: 0.1780 - accuracy: 0.9368\n",
      "Epoch 12: val_accuracy did not improve from 0.75833\n",
      "22/22 [==============================] - 11s 497ms/step - loss: 0.1780 - accuracy: 0.9368 - val_loss: 1.4837 - val_accuracy: 0.6667 - lr: 0.0010\n",
      "Epoch 13/100\n",
      "22/22 [==============================] - ETA: 0s - loss: 0.2037 - accuracy: 0.9162\n",
      "Epoch 13: val_accuracy did not improve from 0.75833\n",
      "22/22 [==============================] - 11s 507ms/step - loss: 0.2037 - accuracy: 0.9162 - val_loss: 1.0553 - val_accuracy: 0.7167 - lr: 0.0010\n",
      "Epoch 14/100\n",
      "22/22 [==============================] - ETA: 0s - loss: 0.1470 - accuracy: 0.9426\n",
      "Epoch 14: val_accuracy did not improve from 0.75833\n",
      "22/22 [==============================] - 12s 528ms/step - loss: 0.1470 - accuracy: 0.9426 - val_loss: 1.1675 - val_accuracy: 0.6917 - lr: 0.0010\n",
      "Epoch 15/100\n",
      "22/22 [==============================] - ETA: 0s - loss: 0.1875 - accuracy: 0.9368\n",
      "Epoch 15: val_accuracy did not improve from 0.75833\n",
      "22/22 [==============================] - 12s 528ms/step - loss: 0.1875 - accuracy: 0.9368 - val_loss: 1.1510 - val_accuracy: 0.7583 - lr: 0.0010\n",
      "Epoch 16/100\n",
      "22/22 [==============================] - ETA: 0s - loss: 0.1434 - accuracy: 0.9412\n",
      "Epoch 16: val_accuracy did not improve from 0.75833\n",
      "22/22 [==============================] - 11s 512ms/step - loss: 0.1434 - accuracy: 0.9412 - val_loss: 0.9901 - val_accuracy: 0.7500 - lr: 0.0010\n",
      "Epoch 17/100\n",
      "22/22 [==============================] - ETA: 0s - loss: 0.1819 - accuracy: 0.9382\n",
      "Epoch 17: val_accuracy did not improve from 0.75833\n",
      "22/22 [==============================] - 11s 492ms/step - loss: 0.1819 - accuracy: 0.9382 - val_loss: 1.4011 - val_accuracy: 0.7167 - lr: 0.0010\n",
      "Epoch 18/100\n",
      "22/22 [==============================] - ETA: 0s - loss: 0.1437 - accuracy: 0.9544\n",
      "Epoch 18: val_accuracy did not improve from 0.75833\n",
      "22/22 [==============================] - 11s 494ms/step - loss: 0.1437 - accuracy: 0.9544 - val_loss: 1.3070 - val_accuracy: 0.7333 - lr: 0.0010\n",
      "Epoch 19/100\n",
      "22/22 [==============================] - ETA: 0s - loss: 0.1723 - accuracy: 0.9368\n",
      "Epoch 19: val_accuracy did not improve from 0.75833\n",
      "22/22 [==============================] - 11s 494ms/step - loss: 0.1723 - accuracy: 0.9368 - val_loss: 1.4127 - val_accuracy: 0.6667 - lr: 0.0010\n",
      "Epoch 20/100\n",
      "22/22 [==============================] - ETA: 0s - loss: 0.1366 - accuracy: 0.9441\n",
      "Epoch 20: val_accuracy did not improve from 0.75833\n",
      "22/22 [==============================] - 11s 493ms/step - loss: 0.1366 - accuracy: 0.9441 - val_loss: 1.3709 - val_accuracy: 0.7500 - lr: 0.0010\n",
      "Epoch 21/100\n",
      "22/22 [==============================] - ETA: 0s - loss: 0.1660 - accuracy: 0.9338\n",
      "Epoch 21: val_accuracy did not improve from 0.75833\n",
      "22/22 [==============================] - 11s 489ms/step - loss: 0.1660 - accuracy: 0.9338 - val_loss: 1.1356 - val_accuracy: 0.6750 - lr: 0.0010\n",
      "Epoch 22/100\n",
      "22/22 [==============================] - ETA: 0s - loss: 0.1404 - accuracy: 0.9441\n",
      "Epoch 22: val_accuracy did not improve from 0.75833\n",
      "22/22 [==============================] - 11s 520ms/step - loss: 0.1404 - accuracy: 0.9441 - val_loss: 1.2305 - val_accuracy: 0.7417 - lr: 0.0010\n",
      "Epoch 23/100\n",
      "22/22 [==============================] - ETA: 0s - loss: 0.1188 - accuracy: 0.9588\n",
      "Epoch 23: val_accuracy did not improve from 0.75833\n",
      "22/22 [==============================] - 11s 495ms/step - loss: 0.1188 - accuracy: 0.9588 - val_loss: 1.2460 - val_accuracy: 0.7583 - lr: 0.0010\n",
      "Epoch 24/100\n",
      "22/22 [==============================] - ETA: 0s - loss: 0.1842 - accuracy: 0.9235\n",
      "Epoch 24: val_accuracy did not improve from 0.75833\n",
      "22/22 [==============================] - 11s 493ms/step - loss: 0.1842 - accuracy: 0.9235 - val_loss: 1.1125 - val_accuracy: 0.7417 - lr: 0.0010\n",
      "Epoch 25/100\n",
      "22/22 [==============================] - ETA: 0s - loss: 0.1482 - accuracy: 0.9471\n",
      "Epoch 25: val_accuracy did not improve from 0.75833\n",
      "22/22 [==============================] - 11s 496ms/step - loss: 0.1482 - accuracy: 0.9471 - val_loss: 1.2243 - val_accuracy: 0.7083 - lr: 0.0010\n",
      "Epoch 26/100\n",
      "22/22 [==============================] - ETA: 0s - loss: 0.1630 - accuracy: 0.9309\n",
      "Epoch 26: val_accuracy did not improve from 0.75833\n",
      "22/22 [==============================] - 11s 493ms/step - loss: 0.1630 - accuracy: 0.9309 - val_loss: 1.2787 - val_accuracy: 0.7250 - lr: 0.0010\n",
      "Epoch 27/100\n",
      "22/22 [==============================] - ETA: 0s - loss: 0.1305 - accuracy: 0.9441\n",
      "Epoch 27: val_accuracy did not improve from 0.75833\n",
      "22/22 [==============================] - 11s 488ms/step - loss: 0.1305 - accuracy: 0.9441 - val_loss: 1.5794 - val_accuracy: 0.7167 - lr: 0.0010\n",
      "Epoch 28/100\n",
      "22/22 [==============================] - ETA: 0s - loss: 0.1614 - accuracy: 0.9397\n",
      "Epoch 28: val_accuracy did not improve from 0.75833\n",
      "22/22 [==============================] - 11s 497ms/step - loss: 0.1614 - accuracy: 0.9397 - val_loss: 1.3808 - val_accuracy: 0.7000 - lr: 0.0010\n",
      "Epoch 29/100\n",
      "22/22 [==============================] - ETA: 0s - loss: 0.1846 - accuracy: 0.9279\n",
      "Epoch 29: val_accuracy did not improve from 0.75833\n",
      "22/22 [==============================] - 11s 495ms/step - loss: 0.1846 - accuracy: 0.9279 - val_loss: 1.5124 - val_accuracy: 0.6750 - lr: 0.0010\n",
      "Epoch 30/100\n",
      "22/22 [==============================] - ETA: 0s - loss: 0.1171 - accuracy: 0.9515\n",
      "Epoch 30: val_accuracy did not improve from 0.75833\n",
      "22/22 [==============================] - 11s 491ms/step - loss: 0.1171 - accuracy: 0.9515 - val_loss: 1.4443 - val_accuracy: 0.7000 - lr: 0.0010\n"
     ]
    },
    {
     "name": "stdout",
     "output_type": "stream",
     "text": [
      "Epoch 31/100\n",
      "22/22 [==============================] - ETA: 0s - loss: 0.1071 - accuracy: 0.9588\n",
      "Epoch 31: val_accuracy did not improve from 0.75833\n",
      "22/22 [==============================] - 11s 491ms/step - loss: 0.1071 - accuracy: 0.9588 - val_loss: 1.5923 - val_accuracy: 0.7000 - lr: 0.0010\n",
      "Epoch 32/100\n",
      "22/22 [==============================] - ETA: 0s - loss: 0.1308 - accuracy: 0.9500\n",
      "Epoch 32: val_accuracy did not improve from 0.75833\n",
      "22/22 [==============================] - 11s 498ms/step - loss: 0.1308 - accuracy: 0.9500 - val_loss: 1.6055 - val_accuracy: 0.7083 - lr: 0.0010\n",
      "Epoch 33/100\n",
      "22/22 [==============================] - ETA: 0s - loss: 0.1326 - accuracy: 0.9471\n",
      "Epoch 33: val_accuracy did not improve from 0.75833\n",
      "22/22 [==============================] - 11s 491ms/step - loss: 0.1326 - accuracy: 0.9471 - val_loss: 1.5535 - val_accuracy: 0.7167 - lr: 0.0010\n",
      "Epoch 34/100\n",
      "22/22 [==============================] - ETA: 0s - loss: 0.1295 - accuracy: 0.9412\n",
      "Epoch 34: val_accuracy did not improve from 0.75833\n",
      "22/22 [==============================] - 11s 493ms/step - loss: 0.1295 - accuracy: 0.9412 - val_loss: 1.4082 - val_accuracy: 0.7083 - lr: 0.0010\n",
      "Epoch 35/100\n",
      "22/22 [==============================] - ETA: 0s - loss: 0.1153 - accuracy: 0.9529\n",
      "Epoch 35: val_accuracy did not improve from 0.75833\n",
      "22/22 [==============================] - 11s 494ms/step - loss: 0.1153 - accuracy: 0.9529 - val_loss: 1.4967 - val_accuracy: 0.6917 - lr: 0.0010\n",
      "Epoch 36/100\n",
      "22/22 [==============================] - ETA: 0s - loss: 0.0977 - accuracy: 0.9662\n",
      "Epoch 36: val_accuracy did not improve from 0.75833\n",
      "22/22 [==============================] - 11s 502ms/step - loss: 0.0977 - accuracy: 0.9662 - val_loss: 1.5044 - val_accuracy: 0.6917 - lr: 0.0010\n",
      "Epoch 37/100\n",
      "22/22 [==============================] - ETA: 0s - loss: 0.1672 - accuracy: 0.9382\n",
      "Epoch 37: val_accuracy did not improve from 0.75833\n",
      "22/22 [==============================] - 11s 497ms/step - loss: 0.1672 - accuracy: 0.9382 - val_loss: 1.6065 - val_accuracy: 0.7000 - lr: 0.0010\n",
      "Epoch 38/100\n",
      "22/22 [==============================] - ETA: 0s - loss: 0.0999 - accuracy: 0.9662\n",
      "Epoch 38: val_accuracy did not improve from 0.75833\n",
      "22/22 [==============================] - 11s 496ms/step - loss: 0.0999 - accuracy: 0.9662 - val_loss: 1.6482 - val_accuracy: 0.7167 - lr: 0.0010\n",
      "Epoch 39/100\n",
      "22/22 [==============================] - ETA: 0s - loss: 0.1092 - accuracy: 0.9574\n",
      "Epoch 39: val_accuracy did not improve from 0.75833\n",
      "22/22 [==============================] - 11s 494ms/step - loss: 0.1092 - accuracy: 0.9574 - val_loss: 1.8745 - val_accuracy: 0.6917 - lr: 0.0010\n",
      "Epoch 40/100\n",
      "22/22 [==============================] - ETA: 0s - loss: 0.1016 - accuracy: 0.9574\n",
      "Epoch 40: val_accuracy did not improve from 0.75833\n",
      "22/22 [==============================] - 11s 495ms/step - loss: 0.1016 - accuracy: 0.9574 - val_loss: 1.4054 - val_accuracy: 0.7167 - lr: 0.0010\n",
      "Epoch 41/100\n",
      "22/22 [==============================] - ETA: 0s - loss: 0.1212 - accuracy: 0.9574\n",
      "Epoch 41: val_accuracy did not improve from 0.75833\n",
      "22/22 [==============================] - 11s 495ms/step - loss: 0.1212 - accuracy: 0.9574 - val_loss: 1.7960 - val_accuracy: 0.7000 - lr: 0.0010\n",
      "Epoch 42/100\n",
      "22/22 [==============================] - ETA: 0s - loss: 0.1954 - accuracy: 0.9279\n",
      "Epoch 42: val_accuracy did not improve from 0.75833\n",
      "22/22 [==============================] - 11s 495ms/step - loss: 0.1954 - accuracy: 0.9279 - val_loss: 1.3883 - val_accuracy: 0.6917 - lr: 0.0010\n",
      "Epoch 43/100\n",
      "22/22 [==============================] - ETA: 0s - loss: 0.1409 - accuracy: 0.9338\n",
      "Epoch 43: val_accuracy did not improve from 0.75833\n",
      "22/22 [==============================] - 11s 492ms/step - loss: 0.1409 - accuracy: 0.9338 - val_loss: 1.2351 - val_accuracy: 0.7250 - lr: 0.0010\n",
      "Epoch 44/100\n",
      "22/22 [==============================] - ETA: 0s - loss: 0.1432 - accuracy: 0.9456\n",
      "Epoch 44: val_accuracy did not improve from 0.75833\n",
      "22/22 [==============================] - 11s 511ms/step - loss: 0.1432 - accuracy: 0.9456 - val_loss: 1.3087 - val_accuracy: 0.7250 - lr: 0.0010\n",
      "Epoch 45/100\n",
      "22/22 [==============================] - ETA: 0s - loss: 0.1205 - accuracy: 0.9544\n",
      "Epoch 45: val_accuracy did not improve from 0.75833\n",
      "22/22 [==============================] - 11s 494ms/step - loss: 0.1205 - accuracy: 0.9544 - val_loss: 1.3517 - val_accuracy: 0.7167 - lr: 0.0010\n",
      "Epoch 46/100\n",
      "22/22 [==============================] - ETA: 0s - loss: 0.1074 - accuracy: 0.9529\n",
      "Epoch 46: val_accuracy did not improve from 0.75833\n",
      "22/22 [==============================] - 11s 492ms/step - loss: 0.1074 - accuracy: 0.9529 - val_loss: 1.4972 - val_accuracy: 0.7500 - lr: 0.0010\n",
      "Epoch 47/100\n",
      "22/22 [==============================] - ETA: 0s - loss: 0.0936 - accuracy: 0.9662\n",
      "Epoch 47: val_accuracy did not improve from 0.75833\n",
      "22/22 [==============================] - 11s 501ms/step - loss: 0.0936 - accuracy: 0.9662 - val_loss: 1.8566 - val_accuracy: 0.7333 - lr: 0.0010\n",
      "Epoch 48/100\n",
      "22/22 [==============================] - ETA: 0s - loss: 0.1004 - accuracy: 0.9588\n",
      "Epoch 48: val_accuracy did not improve from 0.75833\n",
      "22/22 [==============================] - 11s 491ms/step - loss: 0.1004 - accuracy: 0.9588 - val_loss: 1.6499 - val_accuracy: 0.7583 - lr: 0.0010\n",
      "Epoch 49/100\n",
      "22/22 [==============================] - ETA: 0s - loss: 0.0985 - accuracy: 0.9662\n",
      "Epoch 49: val_accuracy improved from 0.75833 to 0.76667, saving model to checkpoint\\\n"
     ]
    },
    {
     "name": "stderr",
     "output_type": "stream",
     "text": [
      "WARNING:absl:Found untraced functions such as _jit_compiled_convolution_op, _jit_compiled_convolution_op, _jit_compiled_convolution_op while saving (showing 3 of 3). These functions will not be directly callable after loading.\n"
     ]
    },
    {
     "name": "stdout",
     "output_type": "stream",
     "text": [
      "INFO:tensorflow:Assets written to: checkpoint\\assets\n"
     ]
    },
    {
     "name": "stderr",
     "output_type": "stream",
     "text": [
      "INFO:tensorflow:Assets written to: checkpoint\\assets\n"
     ]
    },
    {
     "name": "stdout",
     "output_type": "stream",
     "text": [
      "22/22 [==============================] - 14s 631ms/step - loss: 0.0985 - accuracy: 0.9662 - val_loss: 1.8068 - val_accuracy: 0.7667 - lr: 0.0010\n",
      "Epoch 50/100\n",
      "22/22 [==============================] - ETA: 0s - loss: 0.1952 - accuracy: 0.9324\n",
      "Epoch 50: val_accuracy did not improve from 0.76667\n",
      "22/22 [==============================] - 16s 699ms/step - loss: 0.1952 - accuracy: 0.9324 - val_loss: 1.9694 - val_accuracy: 0.6917 - lr: 0.0010\n",
      "Epoch 51/100\n",
      "22/22 [==============================] - ETA: 0s - loss: 0.2410 - accuracy: 0.9074\n",
      "Epoch 51: val_accuracy did not improve from 0.76667\n",
      "22/22 [==============================] - 14s 643ms/step - loss: 0.2410 - accuracy: 0.9074 - val_loss: 1.8615 - val_accuracy: 0.6583 - lr: 0.0010\n",
      "Epoch 52/100\n",
      "22/22 [==============================] - ETA: 0s - loss: 0.2186 - accuracy: 0.9176\n",
      "Epoch 52: val_accuracy did not improve from 0.76667\n",
      "22/22 [==============================] - 13s 607ms/step - loss: 0.2186 - accuracy: 0.9176 - val_loss: 1.2763 - val_accuracy: 0.7083 - lr: 0.0010\n",
      "Epoch 53/100\n",
      "22/22 [==============================] - ETA: 0s - loss: 0.1189 - accuracy: 0.9559\n",
      "Epoch 53: val_accuracy did not improve from 0.76667\n",
      "22/22 [==============================] - 16s 716ms/step - loss: 0.1189 - accuracy: 0.9559 - val_loss: 1.3145 - val_accuracy: 0.7083 - lr: 0.0010\n",
      "Epoch 54/100\n",
      "22/22 [==============================] - ETA: 0s - loss: 0.1376 - accuracy: 0.9529\n",
      "Epoch 54: val_accuracy did not improve from 0.76667\n",
      "22/22 [==============================] - 16s 704ms/step - loss: 0.1376 - accuracy: 0.9529 - val_loss: 1.1640 - val_accuracy: 0.7500 - lr: 0.0010\n",
      "Epoch 55/100\n",
      "22/22 [==============================] - ETA: 0s - loss: 0.0875 - accuracy: 0.9706\n",
      "Epoch 55: val_accuracy did not improve from 0.76667\n",
      "22/22 [==============================] - 15s 664ms/step - loss: 0.0875 - accuracy: 0.9706 - val_loss: 1.3241 - val_accuracy: 0.7583 - lr: 0.0010\n",
      "Epoch 56/100\n",
      "22/22 [==============================] - ETA: 0s - loss: 0.0960 - accuracy: 0.9574\n",
      "Epoch 56: val_accuracy did not improve from 0.76667\n",
      "22/22 [==============================] - 14s 625ms/step - loss: 0.0960 - accuracy: 0.9574 - val_loss: 1.3116 - val_accuracy: 0.7667 - lr: 0.0010\n",
      "Epoch 57/100\n",
      "22/22 [==============================] - ETA: 0s - loss: 0.1097 - accuracy: 0.9544\n",
      "Epoch 57: val_accuracy did not improve from 0.76667\n",
      "22/22 [==============================] - 13s 611ms/step - loss: 0.1097 - accuracy: 0.9544 - val_loss: 1.2014 - val_accuracy: 0.7417 - lr: 0.0010\n",
      "Epoch 58/100\n",
      "22/22 [==============================] - ETA: 0s - loss: 0.0936 - accuracy: 0.9706\n",
      "Epoch 58: val_accuracy did not improve from 0.76667\n",
      "22/22 [==============================] - 13s 582ms/step - loss: 0.0936 - accuracy: 0.9706 - val_loss: 1.1065 - val_accuracy: 0.7500 - lr: 0.0010\n",
      "Epoch 59/100\n",
      "22/22 [==============================] - ETA: 0s - loss: 0.0764 - accuracy: 0.9735\n",
      "Epoch 59: val_accuracy did not improve from 0.76667\n",
      "22/22 [==============================] - 14s 641ms/step - loss: 0.0764 - accuracy: 0.9735 - val_loss: 1.3119 - val_accuracy: 0.7500 - lr: 0.0010\n",
      "Epoch 60/100\n",
      "22/22 [==============================] - ETA: 0s - loss: 0.0941 - accuracy: 0.9647\n",
      "Epoch 60: val_accuracy did not improve from 0.76667\n",
      "22/22 [==============================] - 13s 586ms/step - loss: 0.0941 - accuracy: 0.9647 - val_loss: 1.3379 - val_accuracy: 0.7417 - lr: 0.0010\n",
      "Epoch 61/100\n",
      "22/22 [==============================] - ETA: 0s - loss: 0.0765 - accuracy: 0.9721\n",
      "Epoch 61: val_accuracy did not improve from 0.76667\n",
      "22/22 [==============================] - 13s 616ms/step - loss: 0.0765 - accuracy: 0.9721 - val_loss: 1.5880 - val_accuracy: 0.7583 - lr: 0.0010\n",
      "Epoch 62/100\n",
      "22/22 [==============================] - ETA: 0s - loss: 0.0938 - accuracy: 0.9676\n",
      "Epoch 62: val_accuracy did not improve from 0.76667\n",
      "22/22 [==============================] - 13s 589ms/step - loss: 0.0938 - accuracy: 0.9676 - val_loss: 1.3359 - val_accuracy: 0.7667 - lr: 0.0010\n",
      "Epoch 63/100\n",
      "22/22 [==============================] - ETA: 0s - loss: 0.1555 - accuracy: 0.9485\n",
      "Epoch 63: val_accuracy did not improve from 0.76667\n",
      "22/22 [==============================] - 14s 605ms/step - loss: 0.1555 - accuracy: 0.9485 - val_loss: 1.2702 - val_accuracy: 0.7333 - lr: 0.0010\n",
      "Epoch 64/100\n",
      "22/22 [==============================] - ETA: 0s - loss: 0.0999 - accuracy: 0.9603\n",
      "Epoch 64: val_accuracy did not improve from 0.76667\n",
      "22/22 [==============================] - 15s 700ms/step - loss: 0.0999 - accuracy: 0.9603 - val_loss: 1.3669 - val_accuracy: 0.7333 - lr: 0.0010\n",
      "Epoch 65/100\n",
      "22/22 [==============================] - ETA: 0s - loss: 0.0842 - accuracy: 0.9662\n",
      "Epoch 65: val_accuracy did not improve from 0.76667\n",
      "22/22 [==============================] - 15s 658ms/step - loss: 0.0842 - accuracy: 0.9662 - val_loss: 1.4897 - val_accuracy: 0.7333 - lr: 0.0010\n",
      "Epoch 66/100\n",
      "22/22 [==============================] - ETA: 0s - loss: 0.0990 - accuracy: 0.9559\n",
      "Epoch 66: val_accuracy did not improve from 0.76667\n",
      "22/22 [==============================] - 15s 666ms/step - loss: 0.0990 - accuracy: 0.9559 - val_loss: 1.8203 - val_accuracy: 0.6667 - lr: 0.0010\n",
      "Epoch 67/100\n",
      "22/22 [==============================] - ETA: 0s - loss: 0.0793 - accuracy: 0.9676\n",
      "Epoch 67: val_accuracy did not improve from 0.76667\n",
      "22/22 [==============================] - 13s 603ms/step - loss: 0.0793 - accuracy: 0.9676 - val_loss: 1.4020 - val_accuracy: 0.7167 - lr: 0.0010\n",
      "Epoch 68/100\n",
      "22/22 [==============================] - ETA: 0s - loss: 0.0598 - accuracy: 0.9765\n",
      "Epoch 68: val_accuracy did not improve from 0.76667\n",
      "22/22 [==============================] - 13s 598ms/step - loss: 0.0598 - accuracy: 0.9765 - val_loss: 1.4738 - val_accuracy: 0.7333 - lr: 0.0010\n",
      "Epoch 69/100\n",
      "22/22 [==============================] - ETA: 0s - loss: 0.0772 - accuracy: 0.9735\n",
      "Epoch 69: val_accuracy did not improve from 0.76667\n",
      "22/22 [==============================] - 13s 588ms/step - loss: 0.0772 - accuracy: 0.9735 - val_loss: 1.5356 - val_accuracy: 0.6917 - lr: 0.0010\n",
      "Epoch 70/100\n",
      "22/22 [==============================] - ETA: 0s - loss: 0.1225 - accuracy: 0.9529\n",
      "Epoch 70: val_accuracy did not improve from 0.76667\n",
      "22/22 [==============================] - 13s 590ms/step - loss: 0.1225 - accuracy: 0.9529 - val_loss: 1.4335 - val_accuracy: 0.6750 - lr: 0.0010\n",
      "Epoch 71/100\n",
      "22/22 [==============================] - ETA: 0s - loss: 0.0945 - accuracy: 0.9676\n",
      "Epoch 71: val_accuracy did not improve from 0.76667\n",
      "22/22 [==============================] - 14s 635ms/step - loss: 0.0945 - accuracy: 0.9676 - val_loss: 1.4123 - val_accuracy: 0.7250 - lr: 0.0010\n",
      "Epoch 72/100\n",
      "22/22 [==============================] - ETA: 0s - loss: 0.0762 - accuracy: 0.9691\n",
      "Epoch 72: val_accuracy did not improve from 0.76667\n",
      "22/22 [==============================] - 13s 609ms/step - loss: 0.0762 - accuracy: 0.9691 - val_loss: 1.6387 - val_accuracy: 0.7333 - lr: 0.0010\n",
      "Epoch 73/100\n",
      "22/22 [==============================] - ETA: 0s - loss: 0.0826 - accuracy: 0.9676\n",
      "Epoch 73: val_accuracy did not improve from 0.76667\n",
      "22/22 [==============================] - 13s 578ms/step - loss: 0.0826 - accuracy: 0.9676 - val_loss: 1.6077 - val_accuracy: 0.7667 - lr: 0.0010\n",
      "Epoch 74/100\n",
      "22/22 [==============================] - ETA: 0s - loss: 0.1193 - accuracy: 0.9588\n",
      "Epoch 74: val_accuracy did not improve from 0.76667\n",
      "22/22 [==============================] - 13s 607ms/step - loss: 0.1193 - accuracy: 0.9588 - val_loss: 1.2984 - val_accuracy: 0.7083 - lr: 0.0010\n",
      "Epoch 75/100\n",
      "22/22 [==============================] - ETA: 0s - loss: 0.0886 - accuracy: 0.9632\n",
      "Epoch 75: val_accuracy did not improve from 0.76667\n",
      "22/22 [==============================] - 13s 613ms/step - loss: 0.0886 - accuracy: 0.9632 - val_loss: 1.2573 - val_accuracy: 0.7083 - lr: 0.0010\n",
      "Epoch 76/100\n",
      "22/22 [==============================] - ETA: 0s - loss: 0.0622 - accuracy: 0.9721\n",
      "Epoch 76: val_accuracy did not improve from 0.76667\n",
      "22/22 [==============================] - 13s 588ms/step - loss: 0.0622 - accuracy: 0.9721 - val_loss: 1.6324 - val_accuracy: 0.6833 - lr: 0.0010\n",
      "Epoch 77/100\n",
      "22/22 [==============================] - ETA: 0s - loss: 0.0834 - accuracy: 0.9765\n",
      "Epoch 77: val_accuracy did not improve from 0.76667\n"
     ]
    },
    {
     "name": "stdout",
     "output_type": "stream",
     "text": [
      "22/22 [==============================] - 13s 598ms/step - loss: 0.0834 - accuracy: 0.9765 - val_loss: 1.3646 - val_accuracy: 0.7083 - lr: 0.0010\n",
      "Epoch 78/100\n",
      "22/22 [==============================] - ETA: 0s - loss: 0.0922 - accuracy: 0.9574\n",
      "Epoch 78: val_accuracy did not improve from 0.76667\n",
      "22/22 [==============================] - 19s 850ms/step - loss: 0.0922 - accuracy: 0.9574 - val_loss: 0.9776 - val_accuracy: 0.7583 - lr: 0.0010\n",
      "Epoch 79/100\n",
      "22/22 [==============================] - ETA: 0s - loss: 0.0983 - accuracy: 0.9603\n",
      "Epoch 79: val_accuracy did not improve from 0.76667\n",
      "22/22 [==============================] - 12s 539ms/step - loss: 0.0983 - accuracy: 0.9603 - val_loss: 1.6934 - val_accuracy: 0.7583 - lr: 0.0010\n",
      "Epoch 80/100\n",
      "22/22 [==============================] - ETA: 0s - loss: 0.1392 - accuracy: 0.9397\n",
      "Epoch 80: val_accuracy did not improve from 0.76667\n",
      "22/22 [==============================] - 13s 597ms/step - loss: 0.1392 - accuracy: 0.9397 - val_loss: 1.4292 - val_accuracy: 0.7333 - lr: 0.0010\n",
      "Epoch 81/100\n",
      "22/22 [==============================] - ETA: 0s - loss: 0.0848 - accuracy: 0.9721\n",
      "Epoch 81: val_accuracy did not improve from 0.76667\n",
      "22/22 [==============================] - 13s 575ms/step - loss: 0.0848 - accuracy: 0.9721 - val_loss: 1.6277 - val_accuracy: 0.7333 - lr: 0.0010\n",
      "Epoch 82/100\n",
      "22/22 [==============================] - ETA: 0s - loss: 0.1241 - accuracy: 0.9515\n",
      "Epoch 82: val_accuracy did not improve from 0.76667\n",
      "22/22 [==============================] - 13s 578ms/step - loss: 0.1241 - accuracy: 0.9515 - val_loss: 1.6829 - val_accuracy: 0.7000 - lr: 0.0010\n",
      "Epoch 83/100\n",
      "22/22 [==============================] - ETA: 0s - loss: 0.0821 - accuracy: 0.9706\n",
      "Epoch 83: val_accuracy did not improve from 0.76667\n",
      "22/22 [==============================] - 14s 649ms/step - loss: 0.0821 - accuracy: 0.9706 - val_loss: 1.5377 - val_accuracy: 0.7250 - lr: 0.0010\n",
      "Epoch 84/100\n",
      "22/22 [==============================] - ETA: 0s - loss: 0.0941 - accuracy: 0.9676\n",
      "Epoch 84: val_accuracy did not improve from 0.76667\n",
      "22/22 [==============================] - 13s 593ms/step - loss: 0.0941 - accuracy: 0.9676 - val_loss: 1.4886 - val_accuracy: 0.7417 - lr: 0.0010\n",
      "Epoch 85/100\n",
      "22/22 [==============================] - ETA: 0s - loss: 0.0757 - accuracy: 0.9691\n",
      "Epoch 85: val_accuracy did not improve from 0.76667\n",
      "22/22 [==============================] - 13s 601ms/step - loss: 0.0757 - accuracy: 0.9691 - val_loss: 1.3700 - val_accuracy: 0.7167 - lr: 0.0010\n",
      "Epoch 86/100\n",
      "22/22 [==============================] - ETA: 0s - loss: 0.1101 - accuracy: 0.9618\n",
      "Epoch 86: val_accuracy did not improve from 0.76667\n",
      "22/22 [==============================] - 13s 576ms/step - loss: 0.1101 - accuracy: 0.9618 - val_loss: 1.2956 - val_accuracy: 0.7250 - lr: 0.0010\n",
      "Epoch 87/100\n",
      "22/22 [==============================] - ETA: 0s - loss: 0.0867 - accuracy: 0.9662\n",
      "Epoch 87: val_accuracy did not improve from 0.76667\n",
      "22/22 [==============================] - 13s 618ms/step - loss: 0.0867 - accuracy: 0.9662 - val_loss: 1.5057 - val_accuracy: 0.7417 - lr: 0.0010\n",
      "Epoch 88/100\n",
      "22/22 [==============================] - ETA: 0s - loss: 0.0629 - accuracy: 0.9706\n",
      "Epoch 88: val_accuracy did not improve from 0.76667\n",
      "22/22 [==============================] - 13s 583ms/step - loss: 0.0629 - accuracy: 0.9706 - val_loss: 1.3840 - val_accuracy: 0.7583 - lr: 0.0010\n",
      "Epoch 89/100\n",
      "22/22 [==============================] - ETA: 0s - loss: 0.0570 - accuracy: 0.9809\n",
      "Epoch 89: val_accuracy improved from 0.76667 to 0.77500, saving model to checkpoint\\\n"
     ]
    },
    {
     "name": "stderr",
     "output_type": "stream",
     "text": [
      "WARNING:absl:Found untraced functions such as _jit_compiled_convolution_op, _jit_compiled_convolution_op, _jit_compiled_convolution_op while saving (showing 3 of 3). These functions will not be directly callable after loading.\n"
     ]
    },
    {
     "name": "stdout",
     "output_type": "stream",
     "text": [
      "INFO:tensorflow:Assets written to: checkpoint\\assets\n"
     ]
    },
    {
     "name": "stderr",
     "output_type": "stream",
     "text": [
      "INFO:tensorflow:Assets written to: checkpoint\\assets\n"
     ]
    },
    {
     "name": "stdout",
     "output_type": "stream",
     "text": [
      "22/22 [==============================] - 16s 710ms/step - loss: 0.0570 - accuracy: 0.9809 - val_loss: 1.3526 - val_accuracy: 0.7750 - lr: 0.0010\n",
      "Epoch 90/100\n",
      "22/22 [==============================] - ETA: 0s - loss: 0.1127 - accuracy: 0.9559\n",
      "Epoch 90: val_accuracy did not improve from 0.77500\n",
      "22/22 [==============================] - 14s 601ms/step - loss: 0.1127 - accuracy: 0.9559 - val_loss: 1.5631 - val_accuracy: 0.6833 - lr: 0.0010\n",
      "Epoch 91/100\n",
      "22/22 [==============================] - ETA: 0s - loss: 0.1088 - accuracy: 0.9647\n",
      "Epoch 91: val_accuracy did not improve from 0.77500\n",
      "22/22 [==============================] - 13s 582ms/step - loss: 0.1088 - accuracy: 0.9647 - val_loss: 1.4574 - val_accuracy: 0.7500 - lr: 0.0010\n",
      "Epoch 92/100\n",
      "22/22 [==============================] - ETA: 0s - loss: 0.0504 - accuracy: 0.9853\n",
      "Epoch 92: val_accuracy did not improve from 0.77500\n",
      "22/22 [==============================] - 13s 591ms/step - loss: 0.0504 - accuracy: 0.9853 - val_loss: 1.4006 - val_accuracy: 0.7333 - lr: 0.0010\n",
      "Epoch 93/100\n",
      "22/22 [==============================] - ETA: 0s - loss: 0.0734 - accuracy: 0.9765\n",
      "Epoch 93: val_accuracy did not improve from 0.77500\n",
      "22/22 [==============================] - 13s 592ms/step - loss: 0.0734 - accuracy: 0.9765 - val_loss: 1.5106 - val_accuracy: 0.7333 - lr: 0.0010\n",
      "Epoch 94/100\n",
      "22/22 [==============================] - ETA: 0s - loss: 0.0665 - accuracy: 0.9779\n",
      "Epoch 94: val_accuracy did not improve from 0.77500\n",
      "22/22 [==============================] - 13s 590ms/step - loss: 0.0665 - accuracy: 0.9779 - val_loss: 1.5209 - val_accuracy: 0.7250 - lr: 0.0010\n",
      "Epoch 95/100\n",
      "22/22 [==============================] - ETA: 0s - loss: 0.0895 - accuracy: 0.9676\n",
      "Epoch 95: val_accuracy did not improve from 0.77500\n",
      "22/22 [==============================] - 13s 583ms/step - loss: 0.0895 - accuracy: 0.9676 - val_loss: 1.4647 - val_accuracy: 0.7083 - lr: 0.0010\n",
      "Epoch 96/100\n",
      "22/22 [==============================] - ETA: 0s - loss: 0.0906 - accuracy: 0.9647\n",
      "Epoch 96: val_accuracy did not improve from 0.77500\n",
      "22/22 [==============================] - 14s 625ms/step - loss: 0.0906 - accuracy: 0.9647 - val_loss: 1.4316 - val_accuracy: 0.7500 - lr: 0.0010\n",
      "Epoch 97/100\n",
      "22/22 [==============================] - ETA: 0s - loss: 0.1173 - accuracy: 0.9544\n",
      "Epoch 97: val_accuracy did not improve from 0.77500\n",
      "22/22 [==============================] - 13s 603ms/step - loss: 0.1173 - accuracy: 0.9544 - val_loss: 1.7665 - val_accuracy: 0.6833 - lr: 0.0010\n",
      "Epoch 98/100\n",
      "22/22 [==============================] - ETA: 0s - loss: 0.0520 - accuracy: 0.9794\n",
      "Epoch 98: val_accuracy did not improve from 0.77500\n",
      "22/22 [==============================] - 13s 598ms/step - loss: 0.0520 - accuracy: 0.9794 - val_loss: 1.6674 - val_accuracy: 0.7083 - lr: 0.0010\n",
      "Epoch 99/100\n",
      "22/22 [==============================] - ETA: 0s - loss: 0.0622 - accuracy: 0.9735 \n",
      "Epoch 99: val_accuracy did not improve from 0.77500\n",
      "22/22 [==============================] - 550s 26s/step - loss: 0.0622 - accuracy: 0.9735 - val_loss: 1.7670 - val_accuracy: 0.7333 - lr: 0.0010\n",
      "Epoch 100/100\n",
      "22/22 [==============================] - ETA: 0s - loss: 0.0427 - accuracy: 0.9853\n",
      "Epoch 100: val_accuracy did not improve from 0.77500\n",
      "22/22 [==============================] - 14s 616ms/step - loss: 0.0427 - accuracy: 0.9853 - val_loss: 1.6975 - val_accuracy: 0.7417 - lr: 0.0010\n"
     ]
    }
   ],
   "source": [
    "reduce_lr = ReduceLROnPlateau(monitor='val_accuracy',patience=5,mode='max',verbose=1,min_lr=0.001,factor=0.1)\n",
    "model_checkpoint = ModelCheckpoint('checkpoint/',monitor='val_accuracy',mode='max',save_best_only=True,verbose=1)\n",
    "early_stopping = EarlyStopping(monitor='val_accuracy',mode='max',verbose=1,patience=90)\n",
    "\n",
    "r = cnn.fit(train,\n",
    "           epochs=100,\n",
    "           batch_size=32,\n",
    "           validation_data=test,\n",
    "           callbacks=[reduce_lr,model_checkpoint,early_stopping])"
   ]
  },
  {
   "cell_type": "code",
   "execution_count": 38,
   "id": "d68ad704",
   "metadata": {},
   "outputs": [
    {
     "data": {
      "image/png": "[encoded data removed]",
      "text/plain": [
       "<Figure size 864x576 with 1 Axes>"
      ]
     },
     "metadata": {
      "needs_background": "light"
     },
     "output_type": "display_data"
    }
   ],
   "source": [
    "plt.figure(figsize=(12,8))\n",
    "plt.plot(r.history['loss'],'r',label='train loss')\n",
    "plt.plot(r.history['val_loss'],'b',label='test loss')\n",
    "plt.xlabel('No. of Epochs')\n",
    "plt.ylabel('Loss')\n",
    "plt.title('Loss Graph')\n",
    "plt.legend();"
   ]
  },
  {
   "cell_type": "code",
   "execution_count": 39,
   "id": "69d0b128",
   "metadata": {},
   "outputs": [
    {
     "data": {
      "image/png": "[encoded data removed]",
      "text/plain": [
       "<Figure size 864x576 with 1 Axes>"
      ]
     },
     "metadata": {
      "needs_background": "light"
     },
     "output_type": "display_data"
    }
   ],
   "source": [
    "plt.figure(figsize=(12,8))\n",
    "plt.plot(r.history['accuracy'],'r',label='train accuracy')\n",
    "plt.plot(r.history['val_accuracy'],'b',label='test accuracy')\n",
    "plt.xlabel('No. of Epochs')\n",
    "plt.ylabel('Accuracy')\n",
    "plt.title('Accuracy Graph')\n",
    "plt.legend();"
   ]
  },
  {
   "cell_type": "code",
   "execution_count": 40,
   "id": "0ddea09d",
   "metadata": {},
   "outputs": [
    {
     "data": {
      "text/plain": [
       "<keras.engine.sequential.Sequential at 0x1dd3fd6b3d0>"
      ]
     },
     "execution_count": 40,
     "metadata": {},
     "output_type": "execute_result"
    }
   ],
   "source": [
    "cnn.save('children_adult_classifier.h5')\n",
    "model = load_model('children_adult_classifier.h5')\n",
    "model"
   ]
  },
  {
   "cell_type": "code",
   "execution_count": 43,
   "id": "4a652b87",
   "metadata": {},
   "outputs": [
    {
     "name": "stdout",
     "output_type": "stream",
     "text": [
      "4/4 [==============================] - 1s 113ms/step - loss: 1.6975 - accuracy: 0.7417\n",
      "Test Loss: 1.6975151300430298\n",
      "Test Accuracy: 0.7416666746139526\n"
     ]
    }
   ],
   "source": [
    "loss, acc = cnn.evaluate(test)\n",
    "print(\"Test Loss:\",loss)\n",
    "print(\"Test Accuracy:\",acc)"
   ]
  }
 ],
 "metadata": {
  "kernelspec": {
   "display_name": "Python 3 (ipykernel)",
   "language": "python",
   "name": "python3"
  },
  "language_info": {
   "codemirror_mode": {
    "name": "ipython",
    "version": 3
   },
   "file_extension": ".py",
   "mimetype": "text/x-python",
   "name": "python",
   "nbconvert_exporter": "python",
   "pygments_lexer": "ipython3",
   "version": "3.9.12"
  }
 },
 "nbformat": 4,
 "nbformat_minor": 5
}
